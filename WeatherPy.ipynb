{
 "cells": [
  {
   "cell_type": "code",
   "execution_count": 2,
   "source": [
    "import pandas as pd\r\n",
    "import matplotlib.pyplot as plt\r\n",
    "import numpy as np\r\n",
    "from citipy import citipy as cp"
   ],
   "outputs": [],
   "metadata": {}
  },
  {
   "cell_type": "code",
   "execution_count": null,
   "source": [
    "# Create a set of random latitude and longitude combinations.\r\n",
    "lats = np.random.uniform(low=-90.000, high=90.000, size=1500)\r\n",
    "lngs = np.random.uniform(low=-180.000, high=180.000, size=1500)\r\n",
    "lat_lngs = zip(lats, lngs)\r\n",
    "lat_lngs\r\n"
   ],
   "outputs": [
    {
     "output_type": "execute_result",
     "data": {
      "text/plain": [
       "<zip at 0x29f32e23c48>"
      ]
     },
     "metadata": {},
     "execution_count": 2
    }
   ],
   "metadata": {}
  },
  {
   "cell_type": "code",
   "execution_count": null,
   "source": [
    "coordinates = list(lat_lngs)"
   ],
   "outputs": [],
   "metadata": {}
  }
 ],
 "metadata": {
  "orig_nbformat": 4,
  "language_info": {
   "name": "python",
   "version": "3.7.10",
   "mimetype": "text/x-python",
   "codemirror_mode": {
    "name": "ipython",
    "version": 3
   },
   "pygments_lexer": "ipython3",
   "nbconvert_exporter": "python",
   "file_extension": ".py"
  },
  "kernelspec": {
   "name": "python3",
   "display_name": "Python 3.7.10 64-bit ('PythonData': conda)"
  },
  "interpreter": {
   "hash": "06f89b263fa5a7525e9d8e8e129554f8fbe8c6b9fa32e9fba6d23a81378a92d6"
  }
 },
 "nbformat": 4,
 "nbformat_minor": 2
}