{
 "cells": [
  {
   "cell_type": "code",
   "execution_count": 3,
   "source": [
    "import random as random\r\n",
    "import numpy as np"
   ],
   "outputs": [],
   "metadata": {}
  },
  {
   "cell_type": "code",
   "execution_count": 14,
   "source": [
    "random.random(-90, 90)\r\n"
   ],
   "outputs": [
    {
     "output_type": "execute_result",
     "data": {
      "text/plain": [
       "63"
      ]
     },
     "metadata": {},
     "execution_count": 14
    }
   ],
   "metadata": {}
  },
  {
   "cell_type": "code",
   "execution_count": 21,
   "source": [
    "x = 1\r\n",
    "latitudes = []\r\n",
    "while x < 11:\r\n",
    "    randLat = random.randint(-90,90) + random.random()\r\n",
    "    latitudes.append(randLat)\r\n",
    "    x += 1\r\n",
    "latitudes"
   ],
   "outputs": [
    {
     "output_type": "execute_result",
     "data": {
      "text/plain": [
       "[27.59797798370336,\n",
       " -73.09678081691263,\n",
       " -27.685998860421584,\n",
       " 4.824994388763168,\n",
       " -81.10581371254811,\n",
       " -75.99894343847066,\n",
       " -85.79619570970002,\n",
       " -51.834597068084314,\n",
       " -18.466417944650235,\n",
       " 74.41463006286735]"
      ]
     },
     "metadata": {},
     "execution_count": 21
    }
   ],
   "metadata": {}
  },
  {
   "cell_type": "code",
   "execution_count": 22,
   "source": [
    "x = 1\r\n",
    "longitudes = []\r\n",
    "while x < 11:\r\n",
    "    randLong = random.randint(-180, 180) + random.random()\r\n",
    "    longitudes.append(randLong)\r\n",
    "    x += 1\r\n",
    "longitudes\r\n"
   ],
   "outputs": [
    {
     "output_type": "execute_result",
     "data": {
      "text/plain": [
       "[-51.84280475267497,\n",
       " -103.41398191144812,\n",
       " -79.01978045460598,\n",
       " 87.26761797667686,\n",
       " 153.87154049502055,\n",
       " 106.3274728220568,\n",
       " 41.63814060727416,\n",
       " -152.12289835082504,\n",
       " -72.81925555738746,\n",
       " -44.298644938883704]"
      ]
     },
     "metadata": {},
     "execution_count": 22
    }
   ],
   "metadata": {}
  }
 ],
 "metadata": {
  "orig_nbformat": 4,
  "language_info": {
   "name": "python",
   "version": "3.7.10",
   "mimetype": "text/x-python",
   "codemirror_mode": {
    "name": "ipython",
    "version": 3
   },
   "pygments_lexer": "ipython3",
   "nbconvert_exporter": "python",
   "file_extension": ".py"
  },
  "kernelspec": {
   "name": "python3",
   "display_name": "Python 3.7.10 64-bit ('PythonData': conda)"
  },
  "interpreter": {
   "hash": "06f89b263fa5a7525e9d8e8e129554f8fbe8c6b9fa32e9fba6d23a81378a92d6"
  }
 },
 "nbformat": 4,
 "nbformat_minor": 2
}